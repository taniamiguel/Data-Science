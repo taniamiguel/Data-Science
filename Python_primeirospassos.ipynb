{
  "nbformat": 4,
  "nbformat_minor": 0,
  "metadata": {
    "colab": {
      "name": "Python_primeirospassos.ipynb",
      "provenance": [],
      "collapsed_sections": [
        "_CqRfbnsF45P",
        "iSvMDintFhER",
        "EGzXl8i0FPVl"
      ],
      "toc_visible": true,
      "authorship_tag": "ABX9TyNSb191MgZL0t/fVWYUgBYI",
      "include_colab_link": true
    },
    "kernelspec": {
      "name": "python3",
      "display_name": "Python 3"
    },
    "language_info": {
      "name": "python"
    }
  },
  "cells": [
    {
      "cell_type": "markdown",
      "metadata": {
        "id": "view-in-github",
        "colab_type": "text"
      },
      "source": [
        "<a href=\"https://colab.research.google.com/github/taniamiguel/Data-Science/blob/main/Python_primeirospassos.ipynb\" target=\"_parent\"><img src=\"https://colab.research.google.com/assets/colab-badge.svg\" alt=\"Open In Colab\"/></a>"
      ]
    },
    {
      "cell_type": "markdown",
      "source": [
        "# **Lógica de Programação com Python**\n",
        "\n"
      ],
      "metadata": {
        "id": "fKGTG0kYzQtN"
      }
    },
    {
      "cell_type": "code",
      "source": [
        "1+1"
      ],
      "metadata": {
        "id": "xtJiXDJbzVZ8"
      },
      "execution_count": null,
      "outputs": []
    },
    {
      "cell_type": "code",
      "source": [
        "'guilherme'"
      ],
      "metadata": {
        "colab": {
          "base_uri": "https://localhost:8080/",
          "height": 35
        },
        "id": "EZGRZKJvzoTy",
        "outputId": "8be4cba5-61c7-4d16-ad27-e73e93babdd9"
      },
      "execution_count": null,
      "outputs": [
        {
          "output_type": "execute_result",
          "data": {
            "text/plain": [
              "'guilherme'"
            ],
            "application/vnd.google.colaboratory.intrinsic+json": {
              "type": "string"
            }
          },
          "metadata": {},
          "execution_count": 3
        }
      ]
    },
    {
      "cell_type": "code",
      "source": [
        "nome = 'Tania'"
      ],
      "metadata": {
        "id": "DyEV-0MM6Ydj"
      },
      "execution_count": 10,
      "outputs": []
    },
    {
      "cell_type": "markdown",
      "source": [
        "## Variaveis"
      ],
      "metadata": {
        "id": "_CqRfbnsF45P"
      }
    },
    {
      "cell_type": "code",
      "source": [
        "nome"
      ],
      "metadata": {
        "colab": {
          "base_uri": "https://localhost:8080/",
          "height": 35
        },
        "id": "NGlKB1eU6eCC",
        "outputId": "47aca6b9-3dbb-47fe-a126-ed662905bf7c"
      },
      "execution_count": null,
      "outputs": [
        {
          "output_type": "execute_result",
          "data": {
            "text/plain": [
              "'Tania'"
            ],
            "application/vnd.google.colaboratory.intrinsic+json": {
              "type": "string"
            }
          },
          "metadata": {},
          "execution_count": 5
        }
      ]
    },
    {
      "cell_type": "code",
      "source": [
        "idade = 39"
      ],
      "metadata": {
        "id": "U_rTF5hn6gQ_"
      },
      "execution_count": null,
      "outputs": []
    },
    {
      "cell_type": "code",
      "source": [
        "\n",
        "idade"
      ],
      "metadata": {
        "colab": {
          "base_uri": "https://localhost:8080/"
        },
        "id": "tENtGnDB6gXz",
        "outputId": "10598d22-1abd-4317-dd71-5912a4b5caa1"
      },
      "execution_count": null,
      "outputs": [
        {
          "output_type": "execute_result",
          "data": {
            "text/plain": [
              "39"
            ]
          },
          "metadata": {},
          "execution_count": 9
        }
      ]
    },
    {
      "cell_type": "code",
      "source": [
        "def saudacao():\n",
        "  nome = input('Qual é o seu nome')\n",
        "  print (f'Olá {nome}')"
      ],
      "metadata": {
        "id": "5knGRu5T6-GA"
      },
      "execution_count": null,
      "outputs": []
    },
    {
      "cell_type": "markdown",
      "source": [
        ""
      ],
      "metadata": {
        "id": "W5CAWxlVGE-e"
      }
    },
    {
      "cell_type": "markdown",
      "source": [
        "## Função"
      ],
      "metadata": {
        "id": "iSvMDintFhER"
      }
    },
    {
      "cell_type": "code",
      "source": [
        "saudacao()"
      ],
      "metadata": {
        "colab": {
          "base_uri": "https://localhost:8080/"
        },
        "id": "uCjAqJvN8a6a",
        "outputId": "7bb8400f-1660-4c5e-e927-d39a0512519c"
      },
      "execution_count": null,
      "outputs": [
        {
          "output_type": "stream",
          "name": "stdout",
          "text": [
            "Qual é o seu nomeTania\n",
            "Olá Tania\n"
          ]
        }
      ]
    },
    {
      "cell_type": "code",
      "source": [
        "def nome_completo():\n",
        "  primeiro_nome = input('Qual seu primeiro nome?')\n",
        "  sobrenome = input('Qual seu sobrenome?')\n",
        "  nome_inteiro = primeiro_nome + ' ' + sobrenome\n",
        "  print(nome_inteiro)\n",
        "\n"
      ],
      "metadata": {
        "id": "Vib4KBtc88P7"
      },
      "execution_count": null,
      "outputs": []
    },
    {
      "cell_type": "code",
      "source": [
        "nome_completo()"
      ],
      "metadata": {
        "colab": {
          "base_uri": "https://localhost:8080/"
        },
        "id": "nKe22spY9WAv",
        "outputId": "bde158a8-42c9-4db7-e593-879c93038da8"
      },
      "execution_count": null,
      "outputs": [
        {
          "output_type": "stream",
          "name": "stdout",
          "text": [
            "Qual seu primeiro nome?Tania \n",
            "Qual seu sobrenome?Miguel\n",
            "Tania  Miguel\n"
          ]
        }
      ]
    },
    {
      "cell_type": "code",
      "source": [
        "nome = 'Luiza'\n"
      ],
      "metadata": {
        "id": "BaH4iGgT-fjt"
      },
      "execution_count": 7,
      "outputs": []
    },
    {
      "cell_type": "markdown",
      "source": [
        "## Função com Parametros"
      ],
      "metadata": {
        "id": "EGzXl8i0FPVl"
      }
    },
    {
      "cell_type": "code",
      "source": [
        "def saudacao_com_parametros(nome_da_pessoa):\n",
        "  print(f'Olá {nome_da_pessoa}')"
      ],
      "metadata": {
        "id": "ak2t4kpnCKsc"
      },
      "execution_count": 8,
      "outputs": []
    },
    {
      "cell_type": "code",
      "source": [
        "saudacao_com_parametros(nome)"
      ],
      "metadata": {
        "colab": {
          "base_uri": "https://localhost:8080/"
        },
        "id": "GbOkxqw1C48o",
        "outputId": "3c95402f-8245-47da-fd52-41bd22ede9b5"
      },
      "execution_count": 9,
      "outputs": [
        {
          "output_type": "stream",
          "name": "stdout",
          "text": [
            "Olá Luiza\n"
          ]
        }
      ]
    },
    {
      "cell_type": "code",
      "source": [
        ""
      ],
      "metadata": {
        "id": "SCcWjrQ9FLO8"
      },
      "execution_count": null,
      "outputs": []
    },
    {
      "cell_type": "markdown",
      "source": [
        "## Condicional"
      ],
      "metadata": {
        "id": "J4lfz5xDGMzW"
      }
    },
    {
      "cell_type": "code",
      "source": [
        "  idade = 10\n",
        "\n",
        "  def verifica_se_pode_dirigir(idade):\n",
        "     if idade >= 18:\n",
        "       print('Tem permissão para dirigir')\n",
        "     else:\n",
        "      print('Não tem permissão para dirigir')\n",
        "\n",
        "  verifica_se_pode_dirigir(idade)\n",
        "\n"
      ],
      "metadata": {
        "colab": {
          "base_uri": "https://localhost:8080/"
        },
        "id": "kzCcwgWqGWQ7",
        "outputId": "f53ac8ab-be38-4849-a996-2382c84e6887"
      },
      "execution_count": 16,
      "outputs": [
        {
          "output_type": "stream",
          "name": "stdout",
          "text": [
            "Não tem permissão para dirigir\n"
          ]
        }
      ]
    },
    {
      "cell_type": "markdown",
      "source": [
        "## Convertendo tipo para Inteiro"
      ],
      "metadata": {
        "id": "kfH5-xksJgkC"
      }
    },
    {
      "cell_type": "code",
      "source": [
        "def verifica_se_pode_dirigir_sem_parametros():\n",
        "\n",
        "  idade = input('Qual sua Idade? ')\n",
        "  \n",
        "  idade = int(idade)\n",
        "\n",
        "  if idade >= 18:\n",
        "       print('Tem permissão para dirigir')\n",
        "  else:\n",
        "       print('Não tem permissão para dirigir')\n",
        "\n",
        "verifica_se_pode_dirigir_sem_parametros()\n"
      ],
      "metadata": {
        "colab": {
          "base_uri": "https://localhost:8080/"
        },
        "id": "rBik-f8pH6hn",
        "outputId": "b89af691-3cc2-4a50-fd1d-b2dfd217a69a"
      },
      "execution_count": 22,
      "outputs": [
        {
          "output_type": "stream",
          "name": "stdout",
          "text": [
            "Qual sua Idade? 10\n",
            "Não tem permissão para dirigir\n"
          ]
        }
      ]
    },
    {
      "cell_type": "markdown",
      "source": [
        "## Exercicios"
      ],
      "metadata": {
        "id": "20fkIlsOKVug"
      }
    },
    {
      "cell_type": "code",
      "source": [
        "def velocidade(espaco, tempo):\n",
        "  v = espaco / tempo\n",
        "  print (f'Velocidade: {v} m/s')\n",
        "\n",
        "velocidade(100, 20) "
      ],
      "metadata": {
        "colab": {
          "base_uri": "https://localhost:8080/"
        },
        "id": "gMx9oUBHKcrQ",
        "outputId": "e0d441e3-80f1-43bd-80ce-4944948d208f"
      },
      "execution_count": 28,
      "outputs": [
        {
          "output_type": "stream",
          "name": "stdout",
          "text": [
            "Velocidade: 5.0 m/s\n"
          ]
        }
      ]
    }
  ]
}